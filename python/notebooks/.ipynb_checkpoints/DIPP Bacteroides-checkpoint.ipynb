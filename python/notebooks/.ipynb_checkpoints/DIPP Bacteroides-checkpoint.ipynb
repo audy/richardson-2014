{
 "metadata": {
  "name": "",
  "signature": "sha256:e97c9323e72f634076601607eaff4317ea37a1524d105517bd80b8e7fc6ca240"
 },
 "nbformat": 3,
 "nbformat_minor": 0,
 "worksheets": [
  {
   "cells": [
    {
     "cell_type": "code",
     "collapsed": false,
     "input": [
      "import pandas as pd"
     ],
     "language": "python",
     "metadata": {},
     "outputs": []
    },
    {
     "cell_type": "code",
     "collapsed": false,
     "input": [
      "meta = pd.read_csv('../data/dipp.sample_data.csv', index_col=0)\n",
      "otus = pd.read_csv('../data/dipp.gg135.97.50r10s.csv', index_col=0)\n",
      "taxa = pd.read_csv('../data/dipp.modified_taxonomies.csv', index_col=0, dtype=str)"
     ],
     "language": "python",
     "metadata": {},
     "outputs": []
    },
    {
     "cell_type": "code",
     "collapsed": false,
     "input": [
      "prop = otus/otus.sum(axis=0) * 100"
     ],
     "language": "python",
     "metadata": {},
     "outputs": []
    },
    {
     "cell_type": "code",
     "collapsed": false,
     "input": [
      "# Create multi-indexed DataFrame\n",
      "taxa = taxa.ix[prop.columns]\n",
      "tuples = tuple(tuple(x) for x in taxa.values)\n",
      "index = pd.MultiIndex.from_tuples(tuples, names=taxa.columns)\n",
      "dat = pd.DataFrame(prop.T.values, index=index, columns=prop.index)"
     ],
     "language": "python",
     "metadata": {},
     "outputs": []
    },
    {
     "cell_type": "code",
     "collapsed": false,
     "input": [
      "bacteroides = dat[dat.index.get_level_values('Genus') == 'Bacteroides']"
     ],
     "language": "python",
     "metadata": {},
     "outputs": []
    },
    {
     "cell_type": "code",
     "collapsed": false,
     "input": [
      "bacteroides.head()"
     ],
     "language": "python",
     "metadata": {},
     "outputs": []
    },
    {
     "cell_type": "code",
     "collapsed": false,
     "input": [
      "bacteroides_sp = bacteroides.groupby(level='Species').sum()"
     ],
     "language": "python",
     "metadata": {},
     "outputs": []
    },
    {
     "cell_type": "code",
     "collapsed": false,
     "input": [
      "bacteroides_sp.sum()"
     ],
     "language": "python",
     "metadata": {},
     "outputs": []
    },
    {
     "cell_type": "code",
     "collapsed": false,
     "input": [
      "from sklearn.pipeline import Pipeline\n",
      "from sklearn.preprocessing import StandardScaler\n",
      "from sklearn.decomposition import PCA"
     ],
     "language": "python",
     "metadata": {},
     "outputs": []
    },
    {
     "cell_type": "code",
     "collapsed": false,
     "input": [
      "labels = meta.ix[bacteroides_sp.T.index].seroconverted\n",
      "age = meta.ix[bacteroides_sp.T.index].age_at_sampling\n",
      "colors = [ {True: 'red'}.get(x, 'grey') for x in labels ]"
     ],
     "language": "python",
     "metadata": {},
     "outputs": []
    },
    {
     "cell_type": "code",
     "collapsed": false,
     "input": [
      "pca = PCA().fit_transform(bacteroides_sp.T)"
     ],
     "language": "python",
     "metadata": {},
     "outputs": []
    },
    {
     "cell_type": "code",
     "collapsed": false,
     "input": [
      "scatter(age, pca[:,0], color=colors)\n",
      "pylab.show()"
     ],
     "language": "python",
     "metadata": {},
     "outputs": []
    }
   ],
   "metadata": {}
  }
 ]
}