{
 "metadata": {
  "name": "",
  "signature": "sha256:e8654f2ab6980bfcc5acf5520ea3fd6ec3dcb636fa49cc2f3c2ca3192f648c7b"
 },
 "nbformat": 3,
 "nbformat_minor": 0,
 "worksheets": [
  {
   "cells": [
    {
     "cell_type": "code",
     "collapsed": false,
     "input": [
      "import pandas as pd"
     ],
     "language": "python",
     "metadata": {},
     "outputs": []
    },
    {
     "cell_type": "code",
     "collapsed": false,
     "input": [
      "otus = pd.DataFrame.from_dict({ 'sample_1': { 'otu_1': 1, 'otu_2': 2, 'otu_3': 3},\n",
      "                              'sample_2': { 'otu_1': 3, 'otu_2': 2, 'otu_3': 1 } })"
     ],
     "language": "python",
     "metadata": {},
     "outputs": []
    },
    {
     "cell_type": "code",
     "collapsed": false,
     "input": [
      "otus"
     ],
     "language": "python",
     "metadata": {},
     "outputs": []
    },
    {
     "cell_type": "code",
     "collapsed": false,
     "input": [
      "taxa = pd.DataFrame.from_dict({ 'otu_1': { 'Phylum': 'phy_1', 'Genus': 'gen_1' },\n",
      "                                'otu_2': { 'Phylum': 'phy_1', 'Genus': 'gen_2' },\n",
      "                                'otu_3': { 'Phylum': 'phy_2', 'Genus': 'gen_3' }}).T"
     ],
     "language": "python",
     "metadata": {},
     "outputs": []
    },
    {
     "cell_type": "code",
     "collapsed": false,
     "input": [
      "taxa"
     ],
     "language": "python",
     "metadata": {},
     "outputs": []
    },
    {
     "cell_type": "code",
     "collapsed": false,
     "input": [
      "# convert to tuples\n",
      "tuples = tuple(tuple(x) for x in taxa.values)"
     ],
     "language": "python",
     "metadata": {},
     "outputs": []
    },
    {
     "cell_type": "code",
     "collapsed": false,
     "input": [
      "index = pd.MultiIndex.from_tuples(tuples, names=taxa.columns)"
     ],
     "language": "python",
     "metadata": {},
     "outputs": []
    },
    {
     "cell_type": "code",
     "collapsed": false,
     "input": [
      "pd.DataFrame(otus.values, index=index)"
     ],
     "language": "python",
     "metadata": {},
     "outputs": []
    },
    {
     "cell_type": "code",
     "collapsed": false,
     "input": [
      "otus"
     ],
     "language": "python",
     "metadata": {},
     "outputs": []
    }
   ],
   "metadata": {}
  }
 ]
}