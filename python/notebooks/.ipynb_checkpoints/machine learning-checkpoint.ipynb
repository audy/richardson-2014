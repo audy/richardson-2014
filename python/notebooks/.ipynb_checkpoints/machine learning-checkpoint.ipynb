{
 "metadata": {
  "name": "",
  "signature": "sha256:34dd6a35ffe9eda4d56b19860ca565f56906a9ce438d26589e6055095fc0aab7"
 },
 "nbformat": 3,
 "nbformat_minor": 0,
 "worksheets": [
  {
   "cells": [
    {
     "cell_type": "markdown",
     "metadata": {},
     "source": [
      "# Machine Learning\n",
      "\n",
      "The purpose of this notebook is to demonstrate the cross-validation methods used in the paper..."
     ]
    },
    {
     "cell_type": "code",
     "collapsed": false,
     "input": [
      "import pandas as pd"
     ],
     "language": "python",
     "metadata": {},
     "outputs": []
    },
    {
     "cell_type": "code",
     "collapsed": false,
     "input": [
      "# load data\n",
      "meta = pd.read_csv('../data/dipp.sample_data.csv', index_col=0)\n",
      "otus = pd.read_csv('../data/dipp.gg135.97.50r10s.csv', index_col=0)\n",
      "taxa = pd.read_csv('../data/dipp.modified_taxonomies.csv', index_col=0, dtype=str)"
     ],
     "language": "python",
     "metadata": {},
     "outputs": []
    },
    {
     "cell_type": "code",
     "collapsed": false,
     "input": [
      "taxa = taxa.ix[otus.columns]"
     ],
     "language": "python",
     "metadata": {},
     "outputs": []
    },
    {
     "cell_type": "code",
     "collapsed": false,
     "input": [
      "tuples = tuple(tuple(x) for x in taxa.values)\n",
      "index = pd.MultiIndex.from_tuples(tuples, names=taxa.columns)"
     ],
     "language": "python",
     "metadata": {},
     "outputs": []
    },
    {
     "cell_type": "code",
     "collapsed": false,
     "input": [
      "dat = pd.DataFrame(otus.T.values, index=index, columns=otus.index)"
     ],
     "language": "python",
     "metadata": {},
     "outputs": []
    },
    {
     "cell_type": "code",
     "collapsed": false,
     "input": [
      "genus = dat.groupby(level='Genus').sum()"
     ],
     "language": "python",
     "metadata": {},
     "outputs": []
    },
    {
     "cell_type": "code",
     "collapsed": false,
     "input": [
      "genus.head()"
     ],
     "language": "python",
     "metadata": {},
     "outputs": []
    },
    {
     "cell_type": "code",
     "collapsed": false,
     "input": [
      "prop = genus/genus.sum(axis=0)"
     ],
     "language": "python",
     "metadata": {},
     "outputs": []
    },
    {
     "cell_type": "code",
     "collapsed": false,
     "input": [
      "days = meta.ix[dat.columns].age_at_sampling.values"
     ],
     "language": "python",
     "metadata": {},
     "outputs": []
    },
    {
     "cell_type": "code",
     "collapsed": false,
     "input": [
      "from sklearn.manifold import MDS\n",
      "from sklearn.preprocessing import StandardScaler\n",
      "from sklearn.pipeline import Pipeline\n",
      "\n",
      "pipe = Pipeline([('scale', StandardScaler()),\n",
      "                 ('decomp', PCA())])"
     ],
     "language": "python",
     "metadata": {},
     "outputs": []
    },
    {
     "cell_type": "code",
     "collapsed": false,
     "input": [
      "coords = pipe.fit_transform(prop.T.values.astype('float64'))"
     ],
     "language": "python",
     "metadata": {},
     "outputs": []
    },
    {
     "cell_type": "code",
     "collapsed": false,
     "input": [
      "scatter(coords[:,0], coords[:,1])\n",
      "xlabel('PC_0'); ylabel('PC_1')\n",
      "pylab.show()"
     ],
     "language": "python",
     "metadata": {},
     "outputs": []
    },
    {
     "cell_type": "code",
     "collapsed": false,
     "input": [
      "scatter(days, coords[:,0])\n",
      "xlabel('Age'); ylabel('PC_0')\n",
      "pylab.show()"
     ],
     "language": "python",
     "metadata": {},
     "outputs": []
    },
    {
     "cell_type": "code",
     "collapsed": false,
     "input": [
      "from sklearn.preprocessing import LabelEncoder\n",
      "features = prop.T.values.astype('float64')\n",
      "labels = LabelEncoder().fit_transform(meta.ix[dat.columns].seroconverted.values)"
     ],
     "language": "python",
     "metadata": {},
     "outputs": []
    },
    {
     "cell_type": "code",
     "collapsed": false,
     "input": [
      "from sklearn.ensemble import AdaBoostClassifier\n",
      "from sklearn.cross_validation import cross_val_score\n",
      "classifier = Pipeline([('scale', StandardScaler()),\n",
      "                       ('predict', AdaBoostClassifier())])"
     ],
     "language": "python",
     "metadata": {},
     "outputs": []
    },
    {
     "cell_type": "code",
     "collapsed": false,
     "input": [
      "scores = cross_val_score(classifier, features, labels)"
     ],
     "language": "python",
     "metadata": {},
     "outputs": []
    },
    {
     "cell_type": "code",
     "collapsed": false,
     "input": [
      "'%.2f SD=%.2f' % (scores.mean(), scores.std())"
     ],
     "language": "python",
     "metadata": {},
     "outputs": []
    }
   ],
   "metadata": {}
  }
 ]
}